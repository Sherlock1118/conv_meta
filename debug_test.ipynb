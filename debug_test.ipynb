{
 "cells": [
  {
   "cell_type": "code",
   "execution_count": 10,
   "id": "e4a3d14f",
   "metadata": {
    "execution": {
     "iopub.execute_input": "2022-09-28T05:22:32.363281Z",
     "iopub.status.busy": "2022-09-28T05:22:32.362726Z",
     "iopub.status.idle": "2022-09-28T05:22:34.977519Z",
     "shell.execute_reply": "2022-09-28T05:22:34.976684Z",
     "shell.execute_reply.started": "2022-09-28T05:22:32.363240Z"
    }
   },
   "outputs": [
    {
     "name": "stderr",
     "output_type": "stream",
     "text": [
      "2022-09-28 13:22:33.152431: I tensorflow/stream_executor/platform/default/dso_loader.cc:53] Successfully opened dynamic library libcudart.so.11.0\n"
     ]
    }
   ],
   "source": [
    "import numpy as np\n",
    "import torch\n",
    "try:\n",
    "    from tqdm import tqdm\n",
    "except:\n",
    "    pass\n",
    "from torch.utils.data import Dataset\n",
    "import torch.nn.functional as F\n",
    "import torch\n",
    "import torch.nn as nn\n",
    "import copy\n",
    "import json\n",
    "import sys\n",
    "sys.path.append(\"/home/jovyan/conv_meta/conv_meta\")\n",
    "from data.feature import *\n",
    "import pandas as pd\n",
    "from aibrain_common.data.dataset_builder import (ColumnSpec, DatasetBuilder)\n",
    "from aibrain_common.component import tools\n",
    "from aibrain_common.utils.date_convert_utils import DateConvertUtils"
   ]
  },
  {
   "cell_type": "code",
   "execution_count": 11,
   "id": "e20e0273",
   "metadata": {
    "execution": {
     "iopub.execute_input": "2022-09-28T05:23:17.222293Z",
     "iopub.status.busy": "2022-09-28T05:23:17.221587Z",
     "iopub.status.idle": "2022-09-28T05:23:17.229500Z",
     "shell.execute_reply": "2022-09-28T05:23:17.228671Z",
     "shell.execute_reply.started": "2022-09-28T05:23:17.222251Z"
    }
   },
   "outputs": [],
   "source": [
    "def source_emb_prepare(embed_need_prepare):\n",
    "        embed_need_prepare = pd.DataFrame(embed_need_prepare)\n",
    "        index_name_orig = embed_need_prepare.columns.values.tolist()\n",
    "        for name_orig in index_name_orig:\n",
    "            len_str = len(embed_need_prepare[embed_need_prepare[name_orig] != None][name_orig][0].split(','))\n",
    "            null_fit_str = ','.join(['-1.0' for _ in range(len_str)])\n",
    "            values = {name_orig:null_fit_str}\n",
    "            embed_need_prepare.fillna(value=values)\n",
    "            embed_need_prepare[name_orig].replace(to_replace={None:null_fit_str}, inplace=True)\n",
    "            for i in range(len_str):\n",
    "                embed_need_prepare[name_orig+str(i)] = embed_need_prepare[name_orig].apply(lambda x:x.split(',')[i])\n",
    "            embed_need_prepare.drop(columns=name_orig)\n",
    "        return embed_need_prepare"
   ]
  },
  {
   "cell_type": "code",
   "execution_count": 13,
   "id": "9b0237f1",
   "metadata": {
    "execution": {
     "iopub.execute_input": "2022-09-28T05:31:33.791958Z",
     "iopub.status.busy": "2022-09-28T05:31:33.791451Z",
     "iopub.status.idle": "2022-09-28T05:31:33.798734Z",
     "shell.execute_reply": "2022-09-28T05:31:33.797919Z",
     "shell.execute_reply.started": "2022-09-28T05:31:33.791918Z"
    }
   },
   "outputs": [],
   "source": [
    "sparse_features = user_cate_cols + feed_cate_cols\n",
    "dense_features = user_num_cols + feed_num_cols\n",
    "def featuers_spec():\n",
    "        \"\"\" Define feature column\n",
    "        Args:\n",
    "        \"\"\"\n",
    "        dense_features_spec = [ColumnSpec(column_name=x, dtype = 'float', is_label=False) for x in dense_features]\n",
    "\n",
    "        sparse_features_spec = [ColumnSpec(column_name=x, dtype = 'int64', is_label=False) for x in sparse_features]\n",
    "\n",
    "        label_feature_spec = [ColumnSpec(column_name='label_evehicle_mall_goodspicture', dtype='int64', is_label=True)]\n",
    "        \n",
    "        us_emb_feature_spec = [ColumnSpec(column_name=x, dtype = 'string', is_label=False) for x in us_emb]\n",
    "        vs_emb_feature_spec = [ColumnSpec(column_name=x, dtype = 'string', is_label=False) for x in vs_emb]\n",
    "\n",
    "        featuers_spec = dense_features_spec + sparse_features_spec + label_feature_spec + us_emb_feature_spec + vs_emb_feature_spec\n",
    "    #     featuers_spec = dense_features_spec + sparse_features_spec + label_feature_spec \n",
    "    \n",
    "        return featuers_spec\n"
   ]
  },
  {
   "cell_type": "code",
   "execution_count": 16,
   "id": "6d444ef9",
   "metadata": {
    "execution": {
     "iopub.execute_input": "2022-09-28T05:35:56.707590Z",
     "iopub.status.busy": "2022-09-28T05:35:56.706998Z",
     "iopub.status.idle": "2022-09-28T05:39:53.059109Z",
     "shell.execute_reply": "2022-09-28T05:39:53.058143Z",
     "shell.execute_reply.started": "2022-09-28T05:35:56.707553Z"
    }
   },
   "outputs": [
    {
     "name": "stderr",
     "output_type": "stream",
     "text": [
      "2022-09-28 13:35:56,711 - aibrain_common.io.hdfs_reader - INFO - send http post\n",
      "2022-09-28 13:35:57,040 - aibrain_common.io.hdfs_reader - INFO - send http post done: b'{\"code\":0,\"msg\":\"\\xe8\\xa1\\xa8\\xe4\\xbf\\xa1\\xe6\\x81\\xaf\\xe6\\x9f\\xa5\\xe8\\xaf\\xa2\\xe6\\x88\\x90\\xe5\\x8a\\x9f\",\"data\":{\"\":\"serialization.null.format\",\"top_10_item_click_5_evehicle_mall_goodspicture\":\"int\",\"u_exposure_times_7d_evehicle_mall_goodspicture\":\"float\",\"rentcars_ordercreate_cnt_30d\":\"bigint\",\"rentcars_order_last_view_daydiff\":\"bigint\",\"min_click_price_7d_evehicle_mall_goodspicture\":\"float\",\"usr_pub_account_balance\":\"float\",\"Database:\":\"turing_dev          \",\"usr_ebik_ride_arpu\":\"double\",\"usr_pub_usual_active_city_lvl\":\"bigint\",\"usr_pub_academic\":\"int\",\"label_value\":\"int\",\"rentcars_orderfinish_cnt_60d\":\"bigint\",\"ui_click_times_7d_pv_evehicle_mall_goodspicture\":\"float\",\"InputFormat:\":\"org.apache.hadoop.hive.ql.io.orc.OrcInputFormat\",\"i_exposure_times_7d_pv_evehicle_mall_goodspicture\":\"float\",\"rentcars_orderpay_gmv_60d\":\"decimal(38,8)\",\"user_flw_last_manufacturer\":\"int\",\"psg_onboard_gmv\":\"float\",\"usr_rbik_last_mall_date_diff\":\"float\",\"usr_rbik_ride_cnt_td\":\"float\",\"ui_exposure_times_30d_uv_evehicle_mall_goodspicture\":\"float\",\"OutputFormat:\":\"org.apache.hadoop.hive.ql.io.orc.OrcOutputFormat\",\"usr_ebik_discount_sensitive_level\":\"int\",\"top_10_item_click_2_evehicle_mall_goodspicture\":\"int\",\"ui_exposure_times_30d_pv_evehicle_mall_goodspicture\":\"float\",\"min_order_price_1y_evehicle_mall_goodspicture\":\"float\",\"# Storage Information\":null,\"u_exposure_times_30d_evehicle_mall_goodspicture\":\"float\",\"activity_type\":\"int\",\"consume_low\":\"int\",\"usr_pub_platform\":\"int\",\"# Detailed Table Information\":null,\"is_have_progress_order\":\"string\",\"usr_rbik_detail_visit_days_30d\":\"float\",\"usr_alpha_community_view_total_cnt\":\"float\",\"sex_item\":\"string\",\"top_10_item_click_8_evehicle_mall_goodspicture\":\"string\",\"usr_bik_single_average_ride_time\":\"decimal(13,5)\",\"rentcars_order_cnt_30d\":\"bigint\",\"Storage Desc Params:\":null,\"Compressed:\":\"No                  \",\"top_10_item_click_evehicle_mall_goodspicture\":\"string\",\"rent_hexiao_diff\":\"bigint\",\"u_click_times_14d_evehicle_mall_goodspicture\":\"float\",\"usr_rbik_pageview_detail_end_time_diff\":\"float\",\"usr_pub_loyalty_level\":\"int\",\"usr_bik_psi\":\"decimal(12,4)\",\"model_name\":\"int\",\"parent_mom\":\"int\",\"order_pay\":\"bigint\",\"click_rate_uv_7d\":\"float\",\"rentcars_orderfinish_gmv_90d\":\"decimal(38,10)\",\"click_rate_uv_7d_level\":\"int\",\"parent_sec_child\":\"int\",\"rentcars_orderdetails_day_14d\":\"bigint\",\"usr_bik_ride_cnt_1d\":\"bigint\",\"usr_pub_usual_active_city\":\"string\",\"ticket_user_stratification\":\"int\",\"usr_pub_reward\":\"float\",\"usr_bik_loyalty_index_level\":\"bigint\",\"rentcars_cars_day_14d\":\"bigint\",\"rentcars_orderpay_cnt_14d\":\"bigint\",\"profession_advertising\":\"int\",\"device_model\":\"string\",\"rentcars_ordercreate_cnt_7d\":\"bigint\",\"top_10_item_order_4_evehicle_mall_goodspicture\":\"string\",\"usr_ebik_ride_cnt_alipay_30d\":\"bigint\",\"usr_bik_total_consume_amt\":\"double\",\"ui_exposure_times_1d_pv_evehicle_mall_goodspicture\":\"float\",\"ui_click_times_8_30d_pv_evehicle_mall_goodspicture\":\"float\",\"consume_high\":\"int\",\"max_page\":\"string\",\"Sort Columns:\":\"[]                  \",\"usr_rbik_ride_cnt_7d\":\"float\",\"usr_rbik_ride_distance_avg_30d\":\"float\",\"i_click_times_1d_uv_evehicle_mall_goodspicture\":\"float\",\"usr_pub_flw_usually_login_city\":\"string\",\"i_click_times_30d_uv_evehicle_mall_goodspicture\":\"float\",\"age_item\":\"string\",\"usr_oho_user_active_lvl\":\"bigint\",\"u_exposure_items_14d_evehicle_mall_goodspicture\":\"float\",\"usr_pub_app_end_time_diff\":\"float\",\"usr_pwtx_hitch_psg_finish_order_cnt\":\"bigint\",\"rent_coupon_min_diff\":\"bigint\",\"usr_rbik_ride_distance_30d\":\"float\",\"usr_pub_agreement_info\":\"int\",\"rentcars_order_day_7d\":\"bigint\",\"usr_rbik_consume_amt\":\"float\",\"rentcars_homepage_cnt_7d\":\"bigint\",\"device_carrier\":\"string\",\"rentcars_orderfinish_gmv_14d\":\"decimal(38,10)\",\"usr_bik_ride_cnt_app_30d\":\"bigint\",\"usr_pub_create_dur\":\"float\",\"box_length\":\"float\",\"usr_alpha_posts_total_cnt\":\"float\",\"rent_coupon\":\"bigint\",\"rentcars_orderdetails_cnt_30d\":\"bigint\",\"usr_pub_usual_active_city_code\":\"int\",\"u_exposure_items_7d_evehicle_mall_goodspicture\":\"float\",\"user_stratification\":\"int\",\"usr_rbik_ride_distance_avg_cnt\":\"float\",\"usr_bik_psi_level\":\"bigint\",\"adsource\":\"int\",\"rentcars_homepage_last_view_daydiff\":\"bigint\",\"usr_pub_charge_account\":\"float\",\"usr_rbik_discovery_visit_days_7d\":\"float\",\"finicial_user_stratification\":\"int\",\"usr_pub_cert_status\":\"int\",\"max_order_price_1y_evehicle_mall_goodspicture\":\"float\",\"click_rate_uv_30d_level\":\"int\",\"usr_pub_if_remote_demand\":\"int\",\"rentcars_cars_cnt_7d\":\"bigint\",\"Retention:\":\"0                   \",\"rentcars_orderdetails_day_30d\":\"bigint\",\"htich_last_order_to_today_diff\":\"bigint\",\"u_exposure_times_14d_evehicle_mall_goodspicture\":\"float\",\"i_click_times_8_30d_pv_evehicle_mall_goodspicture\":\"float\",\"i_click_times_7d_uv_evehicle_mall_goodspicture\":\"float\",\"usr_ebik_ride_cnt_30d\":\"bigint\",\"top_10_item_click_3_evehicle_mall_goodspicture\":\"int\",\"usr_rbik_confirm_visit_days_7d\":\"float\",\"rentcars_cars_cnt_30d\":\"bigint\",\"property_high_end\":\"int\",\"motor_power\":\"float\",\"view_hitch_no_click_train_user\":\"string\",\"sex_category\":\"string\",\"model_value\":\"int\",\"usr_bik_ride_cnt_1d_app\":\"bigint\",\"click_rate_pv_7d_level\":\"int\",\"# col_name\":\"data_type           \",\"usr_pub_flw_end_app_date_time_diff\":\"float\",\"rentcars_order_day_3d\":\"bigint\",\"Owner:\":\"houyawei376         \",\"ui_click_times_30d_uv_evehicle_mall_goodspicture\":\"float\",\"usr_pub_animal_sign\":\"string\",\"usr_rbik_seckill_visit_days_7d\":\"float\",\"datetime\":\"string\",\"rentcars_homepage_cnt_3d\":\"bigint\",\"usr_ribk_is_owner_hist\":\"int\",\"profession_finance\":\"int\",\"click_rate_pv_30d\":\"float\",\"order_create\":\"bigint\",\"avg_order_price_1y_evehicle_mall_goodspicture\":\"float\",\"click_rate_uv_3d_level\":\"int\",\"i_exposure_times_3d_uv_evehicle_mall_goodspicture\":\"float\",\"SerDe Library:\":\"org.apache.hadoop.hive.ql.io.orc.OrcSerde\",\"rentcars_cars_day_30d\":\"bigint\",\"usr_pub_is_driver_user\":\"int\",\"rent_shouquan_fail\":\"double\",\"ui_order_times_30d_evehicle_mall_goodspicture\":\"float\",\"usr_pub_occupation\":\"int\",\"u_click_items_60d_evehicle_mall_goodspicture\":\"float\",\"trip_taxi\":\"bigint\",\"rentcars_orderfinish_gmv_7d\":\"decimal(38,10)\",\"dache_to_today_diff\":\"bigint\",\"usr_pub_last_active_time_dur\":\"float\",\"usr_pub_consume_level\":\"int\",\"lastest_click_item_id_evehicle_mall_goodspicture\":\"int\",\"top_10_item_click_1_evehicle_mall_goodspicture\":\"int\",\"rentcars_ordercreate_cnt_60d\":\"bigint\",\"evbike_user_stratification\":\"int\",\"rentcars_orderpay_gmv_90d\":\"decimal(38,8)\",\"usr_pub_member_type\":\"int\",\"last_car_order_to_today_diff\":\"bigint\",\"ui_click_times_8_30d_uv_evehicle_mall_goodspicture\":\"float\",\"usr_rbik_confirm_visit_days_30d\":\"float\",\"rentcars_orderpay_cnt_30d\":\"bigint\",\"rentcars_orderdetails_cnt_7d\":\"bigint\",\"i_exposure_times_7d_uv_evehicle_mall_goodspicture\":\"float\",\"box_height\":\"float\",\"os\":\"int\",\"rent_third_cli_price\":\"double\",\"ui_click_times_7d_uv_evehicle_mall_goodspicture\":\"float\",\"click_rate_uv_30d\":\"float\",\"click_rate_pv_1d_level\":\"int\",\"u_click_items_7d_evehicle_mall_goodspicture\":\"float\",\"Num Buckets:\":\"-1                  \",\"order_finish\":\"bigint\",\"last_view_diff\":\"bigint\",\"parent_child_middle_school\":\"int\",\"device_os\":\"int\",\"usr_pub_star\":\"int\",\"rent_order_diff\":\"bigint\",\"rentcars_cars_cnt_3d\":\"bigint\",\"rentcars_orderfinish_cnt_90d\":\"bigint\",\"trip_traffic_ticket\":\"bigint\",\"top_10_item_click_0_evehicle_mall_goodspicture\":\"int\",\"usr_rbik_last_pay_type\":\"string\",\"ebik_ride_arpu\":\"float\",\"htich_noreply_to_today_diff\":\"bigint\",\"pt\":\"string\",\"usr_pub_sex\":\"int\",\"i_exposure_times_1d_uv_evehicle_mall_goodspicture\":\"float\",\"series_type\":\"int\",\"ui_click_times_1d_uv_evehicle_mall_goodspicture\":\"float\",\"CreateTime:\":\"Mon Sep 26 15:10:54 CST 2022\",\"rentcars_orderdetails_cnt_14d\":\"bigint\",\"hitch_user_stratification\":\"int\",\"rentcars_orderfinish_gmv_30d\":\"decimal(38,10)\",\"i_order_times_30d_evehicle_mall_goodspicture\":\"float\",\"usr_pwtx_hitch_drv_finish_order_cnt\":\"bigint\",\"rent_thirty_diff\":\"bigint\",\"top_10_item_order_evehicle_mall_goodspicture\":\"string\",\"homepage_pv\":\"bigint\",\"usr_pub_flw_visit_app_days_30d\":\"float\",\"usr_rbik_avg_price\":\"float\",\"finicial_total_credit\":\"float\",\"usr_bik_ride_cnt_30d\":\"bigint\",\"rentcars_orderpay_gmv\":\"decimal(38,8)\",\"rentcars_orderfinish_gmv\":\"decimal(38,10)\",\"rentcars_ordercreate_cnt\":\"bigint\",\"i_order_times_7d_evehicle_mall_goodspicture\":\"float\",\"items\":\"string\",\"if_marriage\":\"int\",\"last_30d_is_same_city\":\"string\",\"rentcars_homepage_cnt_14d\":\"bigint\",\"rentcars_orderpay_gmv_7d\":\"decimal(38,8)\",\"u_exposure_items_30d_evehicle_mall_goodspicture\":\"float\",\"ui_exposure_times_7d_uv_evehicle_mall_goodspicture\":\"float\",\"usr_trans_ord_cnt_30d\":\"bigint\",\"i_order_gmv_7d_evehicle_mall_goodspicture\":\"float\",\"city_code\":\"int\",\"user_guid\":\"string\",\"i_order_gmv_30d_evehicle_mall_goodspicture\":\"float\",\"top_10_item_click_9_evehicle_mall_goodspicture\":\"string\",\"rentcars_orderpay_cnt_90d\":\"bigint\",\"item_tag\":\"int\",\"rentcars_orderdetails_day_3d\":\"bigint\",\"rentcars_orderfinish_cnt_14d\":\"bigint\",\"usr_rbik_ride_distance_td\":\"float\",\"top_10_item_order_2_evehicle_mall_goodspicture\":\"string\",\"label_evehicle_mall_goodspicture\":\"int\",\"click_rate_pv_7d\":\"float\",\"sale_price\":\"float\",\"rentcars_cars_cnt_14d\":\"bigint\",\"rentcars_orderdetails_cnt_3d\":\"bigint\",\"i_exposure_times_1d_pv_evehicle_mall_goodspicture\":\"float\",\"ui_exposure_times_7d_pv_evehicle_mall_goodspicture\":\"float\",\"ui_click_times_1d_pv_evehicle_mall_goodspicture\":\"float\",\"usr_rbik_ride_days_7d\":\"float\",\"usr_bik_ride_cnt_red_30d\":\"bigint\",\"rentcars_orderpay_gmv_14d\":\"decimal(38,8)\",\"i_click_times_3d_uv_evehicle_mall_goodspicture\":\"float\",\"usr_pub_is_alipay_hb\":\"bigint\",\"rentcars_homepage_day_30d\":\"bigint\",\"rentcars_ordercreate_cnt_90d\":\"bigint\",\"usr_rbik_ride_days_30d\":\"float\",\"i_order_times_8_30d_pv_evehicle_mall_goodspicture\":\"float\",\"u_click_times_7d_evehicle_mall_goodspicture\":\"float\",\"i_exposure_times_3d_pv_evehicle_mall_goodspicture\":\"float\",\"usr_pwtx_cotx_psg_finish_order_cnt\":\"bigint\",\"i_exposure_times_8_30d_uv_evehicle_mall_goodspicture\":\"float\",\"usr_rbik_mall_visit_days_30d\":\"float\",\"usr_rbik_binding_type\":\"int\",\"usr_rbik_detail_visit_days_7d\":\"float\",\"user_embedding\":\"string\",\"usr_pub_signup_type\":\"int\",\"rentcars_orderpay_cnt_60d\":\"bigint\",\"top_10_item_click_6_evehicle_mall_goodspicture\":\"string\",\"usr_pub_hello_coins\":\"float\",\"click_rate_pv_1d\":\"float\",\"usr_rbik_is_ord_usr\":\"int\",\"usr_rbik_last_purchase_model_name\":\"int\",\"rentcars_order_day_30d\":\"bigint\",\"usr_rbik_use_visit_days_7d\":\"float\",\"latest_item_price_evehicle_mall_goodspicture\":\"float\",\"weight\":\"float\",\"usr_rbik_last_binding_date\":\"string\",\"usr_pwtx_ectx_psg_finish_order_cnt\":\"bigint\",\"usr_rbik_last_discover_date_diff\":\"float\",\"rentcars_cars_last_view_daydiff\":\"bigint\",\"top_10_item_click_4_evehicle_mall_goodspicture\":\"int\",\"usr_oho_end_order_city_name\":\"string\",\"city_price\":\"string\",\"# Partition Information\":null,\"property_have_house\":\"int\",\"distance\":\"double\",\"ui_exposure_times_8_30d_uv_evehicle_mall_goodspicture\":\"float\",\"usr_pub_current_deposit_type\":\"int\",\"usr_bik_card_purchase_cnt\":\"bigint\",\"i_exposure_times_30d_uv_evehicle_mall_goodspicture\":\"float\",\"click_rate_pv_3d\":\"float\",\"click_rate_pv_30d_level\":\"int\",\"usr_rbik_is_owner\":\"int\",\"usr_rbik_is_boss\":\"int\",\"rentcars_orderdetails_last_view_daydiff\":\"bigint\",\"Bucket Columns:\":\"[]                  \",\"usr_rbik_mall_visit_days_7d\":\"float\",\"price_level\":\"int\",\"usr_pub_end_free_deposit_type\":\"int\",\"usr_rbik_seckill_visit_days_30d\":\"float\",\"usr_rbik_discovery_visit_days_30d\":\"float\",\"usr_rbik_ride_distance_avg_day\":\"float\",\"last_view_h5_to_today_diff\":\"bigint\",\"usr_rbik_last_binding_model_guid\":\"int\",\"usr_rbik_last_binding_model_name\":\"string\",\"usr_pub_deposit\":\"float\",\"rentcars_order_cnt_7d\":\"bigint\",\"rentcars_ordercreate_cnt_14d\":\"bigint\",\"Location:\":\"hdfs://flashHadoop/algorithm/dataware/turing_dev.db/cross_domain_recom_zuche_evehicle_sample_train\",\"usr_rbik_ride_days_td\":\"float\",\"top_10_item_order_0_evehicle_mall_goodspicture\":\"int\",\"usr_rbik_last_ord_date\":\"string\",\"click_rate_uv_3d\":\"float\",\"rentcars_orderfinish_cnt\":\"bigint\",\"item_emb_3\":\"string\",\"item_emb_4\":\"string\",\"usr_pub_is_stu_user\":\"int\",\"item_emb_1\":\"string\",\"item_emb_2\":\"string\",\"usr_bik_discount_sensitive_level\":\"bigint\",\"parent_infant\":\"int\",\"top_10_item_click_7_evehicle_mall_goodspicture\":\"string\",\"usr_pub_alipay_user_id\":\"string\",\"usr_bik_loyalty_index\":\"decimal(12,4)\",\"rentcars_orderpay_cnt_7d\":\"bigint\",\"second_series_type\":\"int\",\"usr_pub_flw_last_os\":\"int\",\"usr_rbik_last_ord_platform\":\"string\",\"rentcars_homepage_day_7d\":\"bigint\",\"all_total_cnt\":\"float\",\"rentcars_homepage_cnt_30d\":\"bigint\",\"usr_rbik_use_visit_days_30d\":\"float\",\"usr_pub_sum_credit_score\":\"bigint\",\"ui_order_times_90d_evehicle_mall_goodspicture\":\"float\",\"trip_bike_sharing\":\"bigint\",\"i_click_times_7d_pv_evehicle_mall_goodspicture\":\"float\",\"top_10_item_order_3_evehicle_mall_goodspicture\":\"string\",\"rentcars_orderpay_cnt\":\"bigint\",\"click_rate_uv_1d\":\"float\",\"vehicle_brand_name\":\"int\",\"rentcars_cars_day_7d\":\"bigint\",\"avg_click_price_7d_evehicle_mall_goodspicture\":\"float\",\"item_emb_0\":\"string\",\"usr_rbik_last_binding_bike_no\":\"string\",\"usr_ebik_ride_cnt_app_30d\":\"bigint\",\"rentcars_orderfinish_cnt_30d\":\"bigint\",\"city_item\":\"string\",\"usr_pub_age\":\"int\",\"property_have_car\":\"int\",\"endurance_mileage\":\"float\",\"usr_rbik_ord_cnt\":\"float\",\"usr_bik_ride_days_7d\":\"bigint\",\"i_click_times_8_30d_uv_evehicle_mall_goodspicture\":\"float\",\"usr_bik_card_purchase_amount\":\"double\",\"rentcars_orderpay_gmv_30d\":\"decimal(38,8)\",\"click_rate_pv_3d_level\":\"int\",\"Table Type:\":\"MANAGED_TABLE       \",\"usr_pub_account_type\":\"int\",\"rentcars_order_cnt_14d\":\"bigint\",\"ui_click_times_30d_pv_evehicle_mall_goodspicture\":\"float\",\"Table Parameters:\":null,\"original_price\":\"float\",\"wheel_circu\":\"float\",\"i_order_times_60_90d_pv_evehicle_mall_goodspicture\":\"float\",\"rentcars_homepage_day_14d\":\"bigint\",\"age_category\":\"string\",\"usr_rbik_ride_cnt_30d\":\"float\",\"i_click_times_3d_pv_evehicle_mall_goodspicture\":\"float\",\"usr_pub_city_code\":\"int\",\"usr_pub_alipay_view_end_time_diff\":\"bigint\",\"usr_rbik_finish_ord_cnt\":\"float\",\"rentcars_order_cnt_3d\":\"bigint\",\"u_click_times_60d_evehicle_mall_goodspicture\":\"float\",\"usr_hsa_stu_auth_state\":\"int\",\"max_click_price_7d_evehicle_mall_goodspicture\":\"float\",\"i_exposure_times_8_30d_pv_evehicle_mall_goodspicture\":\"float\",\"profession_it\":\"int\",\"top_10_item_order_1_evehicle_mall_goodspicture\":\"int\",\"click_rate_uv_1d_level\":\"int\",\"usr_rbik_last_use_date_diff\":\"float\",\"rentcars_order_day_14d\":\"bigint\",\"consume_middle\":\"int\",\"rentcars_orderfinish_cnt_7d\":\"bigint\",\"game_user_stratification\":\"int\",\"i_order_times_30_60d_pv_evehicle_mall_goodspicture\":\"float\",\"usr_bik_ride_cnt_alipay_30d\":\"bigint\",\"rentcars_homepage_day_3d\":\"bigint\",\"usr_rbik_last_ride_date_diff\":\"float\",\"ui_exposure_times_1d_uv_evehicle_mall_goodspicture\":\"float\",\"LastAccessTime:\":\"UNKNOWN             \",\"ui_exposure_times_8_30d_pv_evehicle_mall_goodspicture\":\"float\",\"train_fail_to_today_diff\":\"bigint\",\"box_width\":\"float\",\"device_manufacturer\":\"int\",\"i_exposure_times_30d_pv_evehicle_mall_goodspicture\":\"float\",\"platform\":\"int\",\"rentcars_orderfinish_gmv_60d\":\"decimal(38,10)\",\"rentcars_orderdetails_day_7d\":\"bigint\",\"usr_rbik_pageview_mall_end_time_diff\":\"float\",\"usr_bik_ride_time_behavior\":\"string\",\"if_not_marriage\":\"int\",\"rentcars_cars_day_3d\":\"bigint\",\"usr_pub_is_switchpower_user\":\"int\",\"trip_navigation\":\"bigint\",\"item_id\":\"int\",\"ticket_total_consume\":\"float\",\"battery_code\":\"int\",\"i_click_times_1d_pv_evehicle_mall_goodspicture\":\"float\",\"u_click_items_14d_evehicle_mall_goodspicture\":\"float\",\"usr_pub_app_cnt_30d\":\"int\",\"usr_bik_churn_index\":\"decimal(12,4)\",\"i_click_times_30d_pv_evehicle_mall_goodspicture\":\"float\",\"usr_pub_return_account\":\"float\",\"usr_pub_account_status\":\"int\",\"property_home_number_one\":\"int\",\"usr_bik_profit_money\":\"decimal(13,5)\"}}'\n",
      "2022-09-28 13:35:57,042 - aibrain_common.io.hdfs_reader - INFO - get table path: /algorithm/dataware/turing_dev.db/cross_domain_recom_zuche_evehicle_sample_train\n",
      "2022-09-28 13:35:57,042 - aibrain_common.io.hdfs_reader - INFO - get table format: orc\n",
      "2022-09-28 13:35:57,043 - pyhdfs - INFO - LISTSTATUS /algorithm/dataware/turing_dev.db/cross_domain_recom_zuche_evehicle_sample_train/pt=20220916 user.name=lishun207 pro-hadoopnn-dc01-055122.vm.dc01.hellocloud.tech:50070,pro-hadoopnn-dc01-055108.vm.dc01.hellocloud.tech:50070\n",
      "2022-09-28 13:35:57,094 - aibrain_common.io.hdfs_reader - INFO - get hadoop file partition [0, 20)\n",
      "2022-09-28 13:38:35,260 - aibrain_common.io.hdfs_reader - INFO - load whole data frame row number: 1276205\n",
      "2022-09-28 13:38:40,885 - aibrain_common.io.hdfs_reader - INFO - send http post\n",
      "2022-09-28 13:38:41,239 - aibrain_common.io.hdfs_reader - INFO - send http post done: b'{\"code\":0,\"msg\":\"\\xe8\\xa1\\xa8\\xe4\\xbf\\xa1\\xe6\\x81\\xaf\\xe6\\x9f\\xa5\\xe8\\xaf\\xa2\\xe6\\x88\\x90\\xe5\\x8a\\x9f\",\"data\":{\"\":\"serialization.null.format\",\"top_10_item_click_5_evehicle_mall_goodspicture\":\"int\",\"u_exposure_times_7d_evehicle_mall_goodspicture\":\"float\",\"rentcars_ordercreate_cnt_30d\":\"bigint\",\"rentcars_order_last_view_daydiff\":\"bigint\",\"min_click_price_7d_evehicle_mall_goodspicture\":\"float\",\"usr_pub_account_balance\":\"float\",\"Database:\":\"turing_dev          \",\"usr_ebik_ride_arpu\":\"double\",\"usr_pub_usual_active_city_lvl\":\"bigint\",\"usr_pub_academic\":\"int\",\"label_value\":\"int\",\"rentcars_orderfinish_cnt_60d\":\"bigint\",\"ui_click_times_7d_pv_evehicle_mall_goodspicture\":\"float\",\"InputFormat:\":\"org.apache.hadoop.hive.ql.io.orc.OrcInputFormat\",\"i_exposure_times_7d_pv_evehicle_mall_goodspicture\":\"float\",\"rentcars_orderpay_gmv_60d\":\"decimal(38,8)\",\"user_flw_last_manufacturer\":\"int\",\"psg_onboard_gmv\":\"float\",\"usr_rbik_last_mall_date_diff\":\"float\",\"usr_rbik_ride_cnt_td\":\"float\",\"ui_exposure_times_30d_uv_evehicle_mall_goodspicture\":\"float\",\"OutputFormat:\":\"org.apache.hadoop.hive.ql.io.orc.OrcOutputFormat\",\"usr_ebik_discount_sensitive_level\":\"int\",\"top_10_item_click_2_evehicle_mall_goodspicture\":\"int\",\"ui_exposure_times_30d_pv_evehicle_mall_goodspicture\":\"float\",\"min_order_price_1y_evehicle_mall_goodspicture\":\"float\",\"# Storage Information\":null,\"u_exposure_times_30d_evehicle_mall_goodspicture\":\"float\",\"activity_type\":\"int\",\"consume_low\":\"int\",\"usr_pub_platform\":\"int\",\"# Detailed Table Information\":null,\"is_have_progress_order\":\"string\",\"usr_rbik_detail_visit_days_30d\":\"float\",\"usr_alpha_community_view_total_cnt\":\"float\",\"sex_item\":\"string\",\"top_10_item_click_8_evehicle_mall_goodspicture\":\"string\",\"usr_bik_single_average_ride_time\":\"decimal(13,5)\",\"rentcars_order_cnt_30d\":\"bigint\",\"Storage Desc Params:\":null,\"Compressed:\":\"No                  \",\"top_10_item_click_evehicle_mall_goodspicture\":\"string\",\"rent_hexiao_diff\":\"bigint\",\"u_click_times_14d_evehicle_mall_goodspicture\":\"float\",\"usr_rbik_pageview_detail_end_time_diff\":\"float\",\"usr_pub_loyalty_level\":\"int\",\"usr_bik_psi\":\"decimal(12,4)\",\"model_name\":\"int\",\"parent_mom\":\"int\",\"order_pay\":\"bigint\",\"click_rate_uv_7d\":\"float\",\"rentcars_orderfinish_gmv_90d\":\"decimal(38,10)\",\"click_rate_uv_7d_level\":\"int\",\"parent_sec_child\":\"int\",\"rentcars_orderdetails_day_14d\":\"bigint\",\"usr_bik_ride_cnt_1d\":\"bigint\",\"usr_pub_usual_active_city\":\"string\",\"ticket_user_stratification\":\"int\",\"usr_pub_reward\":\"float\",\"usr_bik_loyalty_index_level\":\"bigint\",\"rentcars_cars_day_14d\":\"bigint\",\"rentcars_orderpay_cnt_14d\":\"bigint\",\"profession_advertising\":\"int\",\"device_model\":\"string\",\"rentcars_ordercreate_cnt_7d\":\"bigint\",\"top_10_item_order_4_evehicle_mall_goodspicture\":\"string\",\"usr_ebik_ride_cnt_alipay_30d\":\"bigint\",\"usr_bik_total_consume_amt\":\"double\",\"ui_exposure_times_1d_pv_evehicle_mall_goodspicture\":\"float\",\"ui_click_times_8_30d_pv_evehicle_mall_goodspicture\":\"float\",\"consume_high\":\"int\",\"max_page\":\"string\",\"Sort Columns:\":\"[]                  \",\"usr_rbik_ride_cnt_7d\":\"float\",\"usr_rbik_ride_distance_avg_30d\":\"float\",\"i_click_times_1d_uv_evehicle_mall_goodspicture\":\"float\",\"usr_pub_flw_usually_login_city\":\"string\",\"i_click_times_30d_uv_evehicle_mall_goodspicture\":\"float\",\"age_item\":\"string\",\"usr_oho_user_active_lvl\":\"bigint\",\"u_exposure_items_14d_evehicle_mall_goodspicture\":\"float\",\"usr_pub_app_end_time_diff\":\"float\",\"usr_pwtx_hitch_psg_finish_order_cnt\":\"bigint\",\"rent_coupon_min_diff\":\"bigint\",\"usr_rbik_ride_distance_30d\":\"float\",\"usr_pub_agreement_info\":\"int\",\"rentcars_order_day_7d\":\"bigint\",\"usr_rbik_consume_amt\":\"float\",\"rentcars_homepage_cnt_7d\":\"bigint\",\"device_carrier\":\"string\",\"rentcars_orderfinish_gmv_14d\":\"decimal(38,10)\",\"usr_bik_ride_cnt_app_30d\":\"bigint\",\"usr_pub_create_dur\":\"float\",\"box_length\":\"float\",\"usr_alpha_posts_total_cnt\":\"float\",\"rent_coupon\":\"bigint\",\"rentcars_orderdetails_cnt_30d\":\"bigint\",\"usr_pub_usual_active_city_code\":\"int\",\"u_exposure_items_7d_evehicle_mall_goodspicture\":\"float\",\"user_stratification\":\"int\",\"usr_rbik_ride_distance_avg_cnt\":\"float\",\"usr_bik_psi_level\":\"bigint\",\"adsource\":\"int\",\"rentcars_homepage_last_view_daydiff\":\"bigint\",\"usr_pub_charge_account\":\"float\",\"usr_rbik_discovery_visit_days_7d\":\"float\",\"finicial_user_stratification\":\"int\",\"usr_pub_cert_status\":\"int\",\"max_order_price_1y_evehicle_mall_goodspicture\":\"float\",\"click_rate_uv_30d_level\":\"int\",\"usr_pub_if_remote_demand\":\"int\",\"rentcars_cars_cnt_7d\":\"bigint\",\"Retention:\":\"0                   \",\"rentcars_orderdetails_day_30d\":\"bigint\",\"htich_last_order_to_today_diff\":\"bigint\",\"u_exposure_times_14d_evehicle_mall_goodspicture\":\"float\",\"i_click_times_8_30d_pv_evehicle_mall_goodspicture\":\"float\",\"i_click_times_7d_uv_evehicle_mall_goodspicture\":\"float\",\"usr_ebik_ride_cnt_30d\":\"bigint\",\"top_10_item_click_3_evehicle_mall_goodspicture\":\"int\",\"usr_rbik_confirm_visit_days_7d\":\"float\",\"rentcars_cars_cnt_30d\":\"bigint\",\"property_high_end\":\"int\",\"motor_power\":\"float\",\"view_hitch_no_click_train_user\":\"string\",\"sex_category\":\"string\",\"model_value\":\"int\",\"usr_bik_ride_cnt_1d_app\":\"bigint\",\"click_rate_pv_7d_level\":\"int\",\"# col_name\":\"data_type           \",\"usr_pub_flw_end_app_date_time_diff\":\"float\",\"rentcars_order_day_3d\":\"bigint\",\"Owner:\":\"houyawei376         \",\"ui_click_times_30d_uv_evehicle_mall_goodspicture\":\"float\",\"usr_pub_animal_sign\":\"string\",\"usr_rbik_seckill_visit_days_7d\":\"float\",\"datetime\":\"string\",\"rentcars_homepage_cnt_3d\":\"bigint\",\"usr_ribk_is_owner_hist\":\"int\",\"profession_finance\":\"int\",\"click_rate_pv_30d\":\"float\",\"order_create\":\"bigint\",\"avg_order_price_1y_evehicle_mall_goodspicture\":\"float\",\"click_rate_uv_3d_level\":\"int\",\"i_exposure_times_3d_uv_evehicle_mall_goodspicture\":\"float\",\"SerDe Library:\":\"org.apache.hadoop.hive.ql.io.orc.OrcSerde\",\"rentcars_cars_day_30d\":\"bigint\",\"usr_pub_is_driver_user\":\"int\",\"rent_shouquan_fail\":\"double\",\"ui_order_times_30d_evehicle_mall_goodspicture\":\"float\",\"usr_pub_occupation\":\"int\",\"u_click_items_60d_evehicle_mall_goodspicture\":\"float\",\"trip_taxi\":\"bigint\",\"rentcars_orderfinish_gmv_7d\":\"decimal(38,10)\",\"dache_to_today_diff\":\"bigint\",\"usr_pub_last_active_time_dur\":\"float\",\"usr_pub_consume_level\":\"int\",\"lastest_click_item_id_evehicle_mall_goodspicture\":\"int\",\"top_10_item_click_1_evehicle_mall_goodspicture\":\"int\",\"rentcars_ordercreate_cnt_60d\":\"bigint\",\"evbike_user_stratification\":\"int\",\"rentcars_orderpay_gmv_90d\":\"decimal(38,8)\",\"usr_pub_member_type\":\"int\",\"last_car_order_to_today_diff\":\"bigint\",\"ui_click_times_8_30d_uv_evehicle_mall_goodspicture\":\"float\",\"usr_rbik_confirm_visit_days_30d\":\"float\",\"rentcars_orderpay_cnt_30d\":\"bigint\",\"rentcars_orderdetails_cnt_7d\":\"bigint\",\"i_exposure_times_7d_uv_evehicle_mall_goodspicture\":\"float\",\"box_height\":\"float\",\"os\":\"int\",\"rent_third_cli_price\":\"double\",\"ui_click_times_7d_uv_evehicle_mall_goodspicture\":\"float\",\"click_rate_uv_30d\":\"float\",\"click_rate_pv_1d_level\":\"int\",\"u_click_items_7d_evehicle_mall_goodspicture\":\"float\",\"Num Buckets:\":\"-1                  \",\"order_finish\":\"bigint\",\"last_view_diff\":\"bigint\",\"parent_child_middle_school\":\"int\",\"device_os\":\"int\",\"usr_pub_star\":\"int\",\"rent_order_diff\":\"bigint\",\"rentcars_cars_cnt_3d\":\"bigint\",\"rentcars_orderfinish_cnt_90d\":\"bigint\",\"trip_traffic_ticket\":\"bigint\",\"top_10_item_click_0_evehicle_mall_goodspicture\":\"int\",\"usr_rbik_last_pay_type\":\"string\",\"ebik_ride_arpu\":\"float\",\"htich_noreply_to_today_diff\":\"bigint\",\"pt\":\"string\",\"usr_pub_sex\":\"int\",\"i_exposure_times_1d_uv_evehicle_mall_goodspicture\":\"float\",\"series_type\":\"int\",\"ui_click_times_1d_uv_evehicle_mall_goodspicture\":\"float\",\"CreateTime:\":\"Mon Sep 26 15:18:39 CST 2022\",\"rentcars_orderdetails_cnt_14d\":\"bigint\",\"hitch_user_stratification\":\"int\",\"rentcars_orderfinish_gmv_30d\":\"decimal(38,10)\",\"i_order_times_30d_evehicle_mall_goodspicture\":\"float\",\"usr_pwtx_hitch_drv_finish_order_cnt\":\"bigint\",\"rent_thirty_diff\":\"bigint\",\"top_10_item_order_evehicle_mall_goodspicture\":\"string\",\"homepage_pv\":\"bigint\",\"usr_pub_flw_visit_app_days_30d\":\"float\",\"usr_rbik_avg_price\":\"float\",\"finicial_total_credit\":\"float\",\"usr_bik_ride_cnt_30d\":\"bigint\",\"rentcars_orderpay_gmv\":\"decimal(38,8)\",\"rentcars_orderfinish_gmv\":\"decimal(38,10)\",\"rentcars_ordercreate_cnt\":\"bigint\",\"i_order_times_7d_evehicle_mall_goodspicture\":\"float\",\"items\":\"string\",\"if_marriage\":\"int\",\"last_30d_is_same_city\":\"string\",\"rentcars_homepage_cnt_14d\":\"bigint\",\"rentcars_orderpay_gmv_7d\":\"decimal(38,8)\",\"u_exposure_items_30d_evehicle_mall_goodspicture\":\"float\",\"ui_exposure_times_7d_uv_evehicle_mall_goodspicture\":\"float\",\"usr_trans_ord_cnt_30d\":\"bigint\",\"i_order_gmv_7d_evehicle_mall_goodspicture\":\"float\",\"city_code\":\"int\",\"user_guid\":\"string\",\"i_order_gmv_30d_evehicle_mall_goodspicture\":\"float\",\"top_10_item_click_9_evehicle_mall_goodspicture\":\"string\",\"rentcars_orderpay_cnt_90d\":\"bigint\",\"item_tag\":\"int\",\"rentcars_orderdetails_day_3d\":\"bigint\",\"rentcars_orderfinish_cnt_14d\":\"bigint\",\"usr_rbik_ride_distance_td\":\"float\",\"top_10_item_order_2_evehicle_mall_goodspicture\":\"string\",\"label_evehicle_mall_goodspicture\":\"int\",\"click_rate_pv_7d\":\"float\",\"sale_price\":\"float\",\"rentcars_cars_cnt_14d\":\"bigint\",\"rentcars_orderdetails_cnt_3d\":\"bigint\",\"i_exposure_times_1d_pv_evehicle_mall_goodspicture\":\"float\",\"ui_exposure_times_7d_pv_evehicle_mall_goodspicture\":\"float\",\"ui_click_times_1d_pv_evehicle_mall_goodspicture\":\"float\",\"usr_rbik_ride_days_7d\":\"float\",\"usr_bik_ride_cnt_red_30d\":\"bigint\",\"rentcars_orderpay_gmv_14d\":\"decimal(38,8)\",\"i_click_times_3d_uv_evehicle_mall_goodspicture\":\"float\",\"usr_pub_is_alipay_hb\":\"bigint\",\"rentcars_homepage_day_30d\":\"bigint\",\"rentcars_ordercreate_cnt_90d\":\"bigint\",\"usr_rbik_ride_days_30d\":\"float\",\"i_order_times_8_30d_pv_evehicle_mall_goodspicture\":\"float\",\"u_click_times_7d_evehicle_mall_goodspicture\":\"float\",\"i_exposure_times_3d_pv_evehicle_mall_goodspicture\":\"float\",\"usr_pwtx_cotx_psg_finish_order_cnt\":\"bigint\",\"i_exposure_times_8_30d_uv_evehicle_mall_goodspicture\":\"float\",\"usr_rbik_mall_visit_days_30d\":\"float\",\"usr_rbik_binding_type\":\"int\",\"usr_rbik_detail_visit_days_7d\":\"float\",\"user_embedding\":\"string\",\"usr_pub_signup_type\":\"int\",\"rentcars_orderpay_cnt_60d\":\"bigint\",\"top_10_item_click_6_evehicle_mall_goodspicture\":\"string\",\"usr_pub_hello_coins\":\"float\",\"click_rate_pv_1d\":\"float\",\"usr_rbik_is_ord_usr\":\"int\",\"usr_rbik_last_purchase_model_name\":\"int\",\"rentcars_order_day_30d\":\"bigint\",\"usr_rbik_use_visit_days_7d\":\"float\",\"latest_item_price_evehicle_mall_goodspicture\":\"float\",\"weight\":\"float\",\"usr_rbik_last_binding_date\":\"string\",\"usr_pwtx_ectx_psg_finish_order_cnt\":\"bigint\",\"usr_rbik_last_discover_date_diff\":\"float\",\"rentcars_cars_last_view_daydiff\":\"bigint\",\"top_10_item_click_4_evehicle_mall_goodspicture\":\"int\",\"usr_oho_end_order_city_name\":\"string\",\"city_price\":\"string\",\"# Partition Information\":null,\"property_have_house\":\"int\",\"distance\":\"double\",\"ui_exposure_times_8_30d_uv_evehicle_mall_goodspicture\":\"float\",\"usr_pub_current_deposit_type\":\"int\",\"usr_bik_card_purchase_cnt\":\"bigint\",\"i_exposure_times_30d_uv_evehicle_mall_goodspicture\":\"float\",\"click_rate_pv_3d\":\"float\",\"click_rate_pv_30d_level\":\"int\",\"usr_rbik_is_owner\":\"int\",\"usr_rbik_is_boss\":\"int\",\"rentcars_orderdetails_last_view_daydiff\":\"bigint\",\"Bucket Columns:\":\"[]                  \",\"usr_rbik_mall_visit_days_7d\":\"float\",\"price_level\":\"int\",\"usr_pub_end_free_deposit_type\":\"int\",\"usr_rbik_seckill_visit_days_30d\":\"float\",\"usr_rbik_discovery_visit_days_30d\":\"float\",\"usr_rbik_ride_distance_avg_day\":\"float\",\"last_view_h5_to_today_diff\":\"bigint\",\"usr_rbik_last_binding_model_guid\":\"int\",\"usr_rbik_last_binding_model_name\":\"string\",\"usr_pub_deposit\":\"float\",\"rentcars_order_cnt_7d\":\"bigint\",\"rentcars_ordercreate_cnt_14d\":\"bigint\",\"Location:\":\"hdfs://flashHadoop/algorithm/dataware/turing_dev.db/cross_domain_recom_zuche_evehicle_sample_test\",\"usr_rbik_ride_days_td\":\"float\",\"top_10_item_order_0_evehicle_mall_goodspicture\":\"int\",\"usr_rbik_last_ord_date\":\"string\",\"click_rate_uv_3d\":\"float\",\"rentcars_orderfinish_cnt\":\"bigint\",\"item_emb_3\":\"string\",\"item_emb_4\":\"string\",\"usr_pub_is_stu_user\":\"int\",\"item_emb_1\":\"string\",\"item_emb_2\":\"string\",\"usr_bik_discount_sensitive_level\":\"bigint\",\"parent_infant\":\"int\",\"top_10_item_click_7_evehicle_mall_goodspicture\":\"string\",\"usr_pub_alipay_user_id\":\"string\",\"usr_bik_loyalty_index\":\"decimal(12,4)\",\"rentcars_orderpay_cnt_7d\":\"bigint\",\"second_series_type\":\"int\",\"usr_pub_flw_last_os\":\"int\",\"usr_rbik_last_ord_platform\":\"string\",\"rentcars_homepage_day_7d\":\"bigint\",\"all_total_cnt\":\"float\",\"rentcars_homepage_cnt_30d\":\"bigint\",\"usr_rbik_use_visit_days_30d\":\"float\",\"usr_pub_sum_credit_score\":\"bigint\",\"ui_order_times_90d_evehicle_mall_goodspicture\":\"float\",\"trip_bike_sharing\":\"bigint\",\"i_click_times_7d_pv_evehicle_mall_goodspicture\":\"float\",\"top_10_item_order_3_evehicle_mall_goodspicture\":\"string\",\"rentcars_orderpay_cnt\":\"bigint\",\"click_rate_uv_1d\":\"float\",\"vehicle_brand_name\":\"int\",\"rentcars_cars_day_7d\":\"bigint\",\"avg_click_price_7d_evehicle_mall_goodspicture\":\"float\",\"item_emb_0\":\"string\",\"usr_rbik_last_binding_bike_no\":\"string\",\"usr_ebik_ride_cnt_app_30d\":\"bigint\",\"rentcars_orderfinish_cnt_30d\":\"bigint\",\"city_item\":\"string\",\"usr_pub_age\":\"int\",\"property_have_car\":\"int\",\"endurance_mileage\":\"float\",\"usr_rbik_ord_cnt\":\"float\",\"usr_bik_ride_days_7d\":\"bigint\",\"i_click_times_8_30d_uv_evehicle_mall_goodspicture\":\"float\",\"usr_bik_card_purchase_amount\":\"double\",\"rentcars_orderpay_gmv_30d\":\"decimal(38,8)\",\"click_rate_pv_3d_level\":\"int\",\"Table Type:\":\"MANAGED_TABLE       \",\"usr_pub_account_type\":\"int\",\"rentcars_order_cnt_14d\":\"bigint\",\"ui_click_times_30d_pv_evehicle_mall_goodspicture\":\"float\",\"Table Parameters:\":null,\"original_price\":\"float\",\"wheel_circu\":\"float\",\"i_order_times_60_90d_pv_evehicle_mall_goodspicture\":\"float\",\"rentcars_homepage_day_14d\":\"bigint\",\"age_category\":\"string\",\"usr_rbik_ride_cnt_30d\":\"float\",\"i_click_times_3d_pv_evehicle_mall_goodspicture\":\"float\",\"usr_pub_city_code\":\"int\",\"usr_pub_alipay_view_end_time_diff\":\"bigint\",\"usr_rbik_finish_ord_cnt\":\"float\",\"rentcars_order_cnt_3d\":\"bigint\",\"u_click_times_60d_evehicle_mall_goodspicture\":\"float\",\"usr_hsa_stu_auth_state\":\"int\",\"max_click_price_7d_evehicle_mall_goodspicture\":\"float\",\"i_exposure_times_8_30d_pv_evehicle_mall_goodspicture\":\"float\",\"profession_it\":\"int\",\"top_10_item_order_1_evehicle_mall_goodspicture\":\"int\",\"click_rate_uv_1d_level\":\"int\",\"usr_rbik_last_use_date_diff\":\"float\",\"rentcars_order_day_14d\":\"bigint\",\"consume_middle\":\"int\",\"rentcars_orderfinish_cnt_7d\":\"bigint\",\"game_user_stratification\":\"int\",\"i_order_times_30_60d_pv_evehicle_mall_goodspicture\":\"float\",\"usr_bik_ride_cnt_alipay_30d\":\"bigint\",\"rentcars_homepage_day_3d\":\"bigint\",\"usr_rbik_last_ride_date_diff\":\"float\",\"ui_exposure_times_1d_uv_evehicle_mall_goodspicture\":\"float\",\"LastAccessTime:\":\"UNKNOWN             \",\"ui_exposure_times_8_30d_pv_evehicle_mall_goodspicture\":\"float\",\"train_fail_to_today_diff\":\"bigint\",\"box_width\":\"float\",\"device_manufacturer\":\"int\",\"i_exposure_times_30d_pv_evehicle_mall_goodspicture\":\"float\",\"platform\":\"int\",\"rentcars_orderfinish_gmv_60d\":\"decimal(38,10)\",\"rentcars_orderdetails_day_7d\":\"bigint\",\"usr_rbik_pageview_mall_end_time_diff\":\"float\",\"usr_bik_ride_time_behavior\":\"string\",\"if_not_marriage\":\"int\",\"rentcars_cars_day_3d\":\"bigint\",\"usr_pub_is_switchpower_user\":\"int\",\"trip_navigation\":\"bigint\",\"item_id\":\"int\",\"ticket_total_consume\":\"float\",\"battery_code\":\"int\",\"i_click_times_1d_pv_evehicle_mall_goodspicture\":\"float\",\"u_click_items_14d_evehicle_mall_goodspicture\":\"float\",\"usr_pub_app_cnt_30d\":\"int\",\"usr_bik_churn_index\":\"decimal(12,4)\",\"i_click_times_30d_pv_evehicle_mall_goodspicture\":\"float\",\"usr_pub_return_account\":\"float\",\"usr_pub_account_status\":\"int\",\"property_home_number_one\":\"int\",\"usr_bik_profit_money\":\"decimal(13,5)\"}}'\n",
      "2022-09-28 13:38:41,241 - aibrain_common.io.hdfs_reader - INFO - get table path: /algorithm/dataware/turing_dev.db/cross_domain_recom_zuche_evehicle_sample_test\n",
      "2022-09-28 13:38:41,241 - aibrain_common.io.hdfs_reader - INFO - get table format: orc\n",
      "2022-09-28 13:38:41,242 - pyhdfs - INFO - LISTSTATUS /algorithm/dataware/turing_dev.db/cross_domain_recom_zuche_evehicle_sample_test/pt=20220916 user.name=lishun207 pro-hadoopnn-dc01-055122.vm.dc01.hellocloud.tech:50070,pro-hadoopnn-dc01-055108.vm.dc01.hellocloud.tech:50070\n",
      "2022-09-28 13:38:41,338 - aibrain_common.io.hdfs_reader - INFO - get hadoop file partition [0, 20)\n",
      "2022-09-28 13:39:51,713 - aibrain_common.io.hdfs_reader - INFO - load whole data frame row number: 319804\n"
     ]
    }
   ],
   "source": [
    "spec = featuers_spec()\n",
    "train_dataset_builder = DatasetBuilder(input_table='turing_dev.cross_domain_recom_zuche_evehicle_sample_train',\\\n",
    "     partitions=f'pt={\"20220916\"}', column_spec=spec).to_pandas()\n",
    "test_dataset_builder = DatasetBuilder(input_table='turing_dev.cross_domain_recom_zuche_evehicle_sample_test', \\\n",
    "    partitions=f'pt={\"20220916\"}', column_spec=spec).to_pandas()"
   ]
  },
  {
   "cell_type": "code",
   "execution_count": 19,
   "id": "de83d9c4",
   "metadata": {
    "execution": {
     "iopub.execute_input": "2022-09-28T06:13:34.824492Z",
     "iopub.status.busy": "2022-09-28T06:13:34.823892Z",
     "iopub.status.idle": "2022-09-28T06:13:34.832547Z",
     "shell.execute_reply": "2022-09-28T06:13:34.831561Z",
     "shell.execute_reply.started": "2022-09-28T06:13:34.824443Z"
    }
   },
   "outputs": [],
   "source": [
    "def source_emb_prepare(embed_need_prepare):\n",
    "        embed_need_prepare = pd.DataFrame(embed_need_prepare)\n",
    "        index_name_orig = embed_need_prepare.columns.values.tolist()\n",
    "        for name_orig in index_name_orig:\n",
    "            len_str = len(embed_need_prepare[embed_need_prepare[name_orig] != None][name_orig][0].split(','))\n",
    "            null_fit_str = ','.join(['-1.0' for _ in range(len_str)])\n",
    "            values = {name_orig:null_fit_str}\n",
    "            embed_need_prepare.fillna(value=values)\n",
    "            embed_need_prepare[name_orig].replace(to_replace={None:null_fit_str}, inplace=True)\n",
    "            for i in range(len_str):\n",
    "                embed_need_prepare[name_orig+str(i)] = embed_need_prepare[name_orig].apply(lambda x:x.split(',')[i])\n",
    "            embed_need_prepare.drop(columns=name_orig)\n",
    "        return embed_need_prepare"
   ]
  },
  {
   "cell_type": "code",
   "execution_count": 21,
   "id": "fbac9d70",
   "metadata": {
    "execution": {
     "iopub.execute_input": "2022-09-28T06:14:02.244886Z",
     "iopub.status.busy": "2022-09-28T06:14:02.244384Z",
     "iopub.status.idle": "2022-09-28T06:14:37.554188Z",
     "shell.execute_reply": "2022-09-28T06:14:37.553179Z",
     "shell.execute_reply.started": "2022-09-28T06:14:02.244852Z"
    }
   },
   "outputs": [],
   "source": [
    "train_dataset_builder_ = train_dataset_builder.sample(n=100000, replace=True, random_state=18).reset_index(drop=True)\n",
    "s_usr_embed_df = train_dataset_builder_[us_emb]\n",
    "s_usr_embed_df = source_emb_prepare(s_usr_embed_df)"
   ]
  },
  {
   "cell_type": "code",
   "execution_count": 30,
   "id": "8cc73596",
   "metadata": {
    "execution": {
     "iopub.execute_input": "2022-09-28T06:32:04.044745Z",
     "iopub.status.busy": "2022-09-28T06:32:04.044259Z",
     "iopub.status.idle": "2022-09-28T06:32:04.095285Z",
     "shell.execute_reply": "2022-09-28T06:32:04.094372Z",
     "shell.execute_reply.started": "2022-09-28T06:32:04.044713Z"
    }
   },
   "outputs": [
    {
     "name": "stdout",
     "output_type": "stream",
     "text": [
      "                                              item_emb_0  \\\n",
      "0      -0.020345397293567657, -0.217990905046463, -0....   \n",
      "1      -0.01403982937335968, -0.017681241035461426, -...   \n",
      "2      0.010910830460488796, -0.08495029807090759, 0....   \n",
      "3      -0.006651971489191055, 0.21700970828533173, -0...   \n",
      "4      0.018911201506853104, 0.09183803200721741, -0....   \n",
      "...                                                  ...   \n",
      "99995  -0.006491950247436762, 0.2220931202173233, -0....   \n",
      "99996  -0.019605334848165512, -0.19448134303092957, -...   \n",
      "99997  -0.011727099306881428, 0.05578753352165222, -0...   \n",
      "99998  0.026382293552160263, 0.005745112895965576, 0....   \n",
      "99999  0.03877287730574608, 0.22572016716003418, -0.0...   \n",
      "\n",
      "                                              item_emb_1  \\\n",
      "0                                                   None   \n",
      "1                                                   None   \n",
      "2      0.002153579145669937, 0.205512136220932, -0.03...   \n",
      "3      -0.01641768217086792, -0.09321874380111694, -0...   \n",
      "4      -0.02164444699883461, -0.25925806164741516, -0...   \n",
      "...                                                  ...   \n",
      "99995                                               None   \n",
      "99996  -0.01403982937335968, -0.017681241035461426, -...   \n",
      "99997                                               None   \n",
      "99998  -0.006040580570697784, 0.23643183708190918, -0...   \n",
      "99999  -0.006491950247436762, 0.2220931202173233, -0....   \n",
      "\n",
      "                                              item_emb_2  \\\n",
      "0                                                   None   \n",
      "1                                                   None   \n",
      "2                                                   None   \n",
      "3      -0.006491950247436762, 0.2220931202173233, -0....   \n",
      "4                                                   None   \n",
      "...                                                  ...   \n",
      "99995                                               None   \n",
      "99996  -0.015663117170333862, -0.06924840807914734, -...   \n",
      "99997                                               None   \n",
      "99998                                               None   \n",
      "99999  0.010910830460488796, -0.08495029807090759, 0....   \n",
      "\n",
      "                                              item_emb_3 item_emb_4  \n",
      "0                                                   None       None  \n",
      "1                                                   None       None  \n",
      "2                                                   None       None  \n",
      "3                                                   None       None  \n",
      "4                                                   None       None  \n",
      "...                                                  ...        ...  \n",
      "99995                                               None       None  \n",
      "99996  -0.006491950247436762, 0.2220931202173233, -0....       None  \n",
      "99997                                               None       None  \n",
      "99998                                               None       None  \n",
      "99999                                               None       None  \n",
      "\n",
      "[100000 rows x 5 columns]\n",
      "                                              item_emb_0  \\\n",
      "0      -0.020345397293567657, -0.217990905046463, -0....   \n",
      "1      -0.01403982937335968, -0.017681241035461426, -...   \n",
      "2      0.010910830460488796, -0.08495029807090759, 0....   \n",
      "3      -0.006651971489191055, 0.21700970828533173, -0...   \n",
      "4      0.018911201506853104, 0.09183803200721741, -0....   \n",
      "...                                                  ...   \n",
      "99995  -0.006491950247436762, 0.2220931202173233, -0....   \n",
      "99996  -0.019605334848165512, -0.19448134303092957, -...   \n",
      "99997  -0.011727099306881428, 0.05578753352165222, -0...   \n",
      "99998  0.026382293552160263, 0.005745112895965576, 0....   \n",
      "99999  0.03877287730574608, 0.22572016716003418, -0.0...   \n",
      "\n",
      "                                              item_emb_1  \\\n",
      "0      -1.0,-1.0,-1.0,-1.0,-1.0,-1.0,-1.0,-1.0,-1.0,-...   \n",
      "1      -1.0,-1.0,-1.0,-1.0,-1.0,-1.0,-1.0,-1.0,-1.0,-...   \n",
      "2      0.002153579145669937, 0.205512136220932, -0.03...   \n",
      "3      -0.01641768217086792, -0.09321874380111694, -0...   \n",
      "4      -0.02164444699883461, -0.25925806164741516, -0...   \n",
      "...                                                  ...   \n",
      "99995  -1.0,-1.0,-1.0,-1.0,-1.0,-1.0,-1.0,-1.0,-1.0,-...   \n",
      "99996  -0.01403982937335968, -0.017681241035461426, -...   \n",
      "99997  -1.0,-1.0,-1.0,-1.0,-1.0,-1.0,-1.0,-1.0,-1.0,-...   \n",
      "99998  -0.006040580570697784, 0.23643183708190918, -0...   \n",
      "99999  -0.006491950247436762, 0.2220931202173233, -0....   \n",
      "\n",
      "                                              item_emb_2  \\\n",
      "0      -1.0,-1.0,-1.0,-1.0,-1.0,-1.0,-1.0,-1.0,-1.0,-...   \n",
      "1      -1.0,-1.0,-1.0,-1.0,-1.0,-1.0,-1.0,-1.0,-1.0,-...   \n",
      "2      -1.0,-1.0,-1.0,-1.0,-1.0,-1.0,-1.0,-1.0,-1.0,-...   \n",
      "3      -0.006491950247436762, 0.2220931202173233, -0....   \n",
      "4      -1.0,-1.0,-1.0,-1.0,-1.0,-1.0,-1.0,-1.0,-1.0,-...   \n",
      "...                                                  ...   \n",
      "99995  -1.0,-1.0,-1.0,-1.0,-1.0,-1.0,-1.0,-1.0,-1.0,-...   \n",
      "99996  -0.015663117170333862, -0.06924840807914734, -...   \n",
      "99997  -1.0,-1.0,-1.0,-1.0,-1.0,-1.0,-1.0,-1.0,-1.0,-...   \n",
      "99998  -1.0,-1.0,-1.0,-1.0,-1.0,-1.0,-1.0,-1.0,-1.0,-...   \n",
      "99999  0.010910830460488796, -0.08495029807090759, 0....   \n",
      "\n",
      "                                              item_emb_3  \\\n",
      "0      -1.0,-1.0,-1.0,-1.0,-1.0,-1.0,-1.0,-1.0,-1.0,-...   \n",
      "1      -1.0,-1.0,-1.0,-1.0,-1.0,-1.0,-1.0,-1.0,-1.0,-...   \n",
      "2      -1.0,-1.0,-1.0,-1.0,-1.0,-1.0,-1.0,-1.0,-1.0,-...   \n",
      "3      -1.0,-1.0,-1.0,-1.0,-1.0,-1.0,-1.0,-1.0,-1.0,-...   \n",
      "4      -1.0,-1.0,-1.0,-1.0,-1.0,-1.0,-1.0,-1.0,-1.0,-...   \n",
      "...                                                  ...   \n",
      "99995  -1.0,-1.0,-1.0,-1.0,-1.0,-1.0,-1.0,-1.0,-1.0,-...   \n",
      "99996  -0.006491950247436762, 0.2220931202173233, -0....   \n",
      "99997  -1.0,-1.0,-1.0,-1.0,-1.0,-1.0,-1.0,-1.0,-1.0,-...   \n",
      "99998  -1.0,-1.0,-1.0,-1.0,-1.0,-1.0,-1.0,-1.0,-1.0,-...   \n",
      "99999  -1.0,-1.0,-1.0,-1.0,-1.0,-1.0,-1.0,-1.0,-1.0,-...   \n",
      "\n",
      "                                              item_emb_4  \n",
      "0      -1.0,-1.0,-1.0,-1.0,-1.0,-1.0,-1.0,-1.0,-1.0,-...  \n",
      "1      -1.0,-1.0,-1.0,-1.0,-1.0,-1.0,-1.0,-1.0,-1.0,-...  \n",
      "2      -1.0,-1.0,-1.0,-1.0,-1.0,-1.0,-1.0,-1.0,-1.0,-...  \n",
      "3      -1.0,-1.0,-1.0,-1.0,-1.0,-1.0,-1.0,-1.0,-1.0,-...  \n",
      "4      -1.0,-1.0,-1.0,-1.0,-1.0,-1.0,-1.0,-1.0,-1.0,-...  \n",
      "...                                                  ...  \n",
      "99995  -1.0,-1.0,-1.0,-1.0,-1.0,-1.0,-1.0,-1.0,-1.0,-...  \n",
      "99996  -1.0,-1.0,-1.0,-1.0,-1.0,-1.0,-1.0,-1.0,-1.0,-...  \n",
      "99997  -1.0,-1.0,-1.0,-1.0,-1.0,-1.0,-1.0,-1.0,-1.0,-...  \n",
      "99998  -1.0,-1.0,-1.0,-1.0,-1.0,-1.0,-1.0,-1.0,-1.0,-...  \n",
      "99999  -1.0,-1.0,-1.0,-1.0,-1.0,-1.0,-1.0,-1.0,-1.0,-...  \n",
      "\n",
      "[100000 rows x 5 columns]\n"
     ]
    },
    {
     "name": "stderr",
     "output_type": "stream",
     "text": [
      "/usr/local/lib/python3.7/site-packages/pandas/core/generic.py:6746: SettingWithCopyWarning: \n",
      "A value is trying to be set on a copy of a slice from a DataFrame\n",
      "\n",
      "See the caveats in the documentation: https://pandas.pydata.org/pandas-docs/stable/user_guide/indexing.html#returning-a-view-versus-a-copy\n",
      "  self._update_inplace(new_data)\n"
     ]
    }
   ],
   "source": [
    "s_item_embed_df = train_dataset_builder_[vs_emb]\n",
    "len_str = len(s_item_embed_df['item_emb_0'][0].split(','))\n",
    "null_fit_str = ','.join(['-1.0' for _ in range(len_str)])\n",
    "print(s_item_embed_df)\n",
    "for i in range(5):\n",
    "    s_item_embed_df['item_emb_'+str(i)].replace(to_replace={None:null_fit_str}, inplace=True)\n",
    "# s_item_embed_df = source_emb_prepare(s_item_embed_df)\n",
    "print(s_item_embed_df)"
   ]
  },
  {
   "cell_type": "code",
   "execution_count": 35,
   "id": "2f5d7b47",
   "metadata": {
    "execution": {
     "iopub.execute_input": "2022-09-28T06:40:41.435222Z",
     "iopub.status.busy": "2022-09-28T06:40:41.434727Z",
     "iopub.status.idle": "2022-09-28T06:40:41.526001Z",
     "shell.execute_reply": "2022-09-28T06:40:41.524506Z",
     "shell.execute_reply.started": "2022-09-28T06:40:41.435188Z"
    }
   },
   "outputs": [
    {
     "name": "stdout",
     "output_type": "stream",
     "text": [
      "                                              item_emb_0  \\\n",
      "0      -0.020345397293567657, -0.217990905046463, -0....   \n",
      "1      -0.01403982937335968, -0.017681241035461426, -...   \n",
      "2      0.010910830460488796, -0.08495029807090759, 0....   \n",
      "3      -0.006651971489191055, 0.21700970828533173, -0...   \n",
      "4      0.018911201506853104, 0.09183803200721741, -0....   \n",
      "...                                                  ...   \n",
      "99995  -0.006491950247436762, 0.2220931202173233, -0....   \n",
      "99996  -0.019605334848165512, -0.19448134303092957, -...   \n",
      "99997  -0.011727099306881428, 0.05578753352165222, -0...   \n",
      "99998  0.026382293552160263, 0.005745112895965576, 0....   \n",
      "99999  0.03877287730574608, 0.22572016716003418, -0.0...   \n",
      "\n",
      "                                              item_emb_1  \\\n",
      "0                                                   None   \n",
      "1                                                   None   \n",
      "2      0.002153579145669937, 0.205512136220932, -0.03...   \n",
      "3      -0.01641768217086792, -0.09321874380111694, -0...   \n",
      "4      -0.02164444699883461, -0.25925806164741516, -0...   \n",
      "...                                                  ...   \n",
      "99995                                               None   \n",
      "99996  -0.01403982937335968, -0.017681241035461426, -...   \n",
      "99997                                               None   \n",
      "99998  -0.006040580570697784, 0.23643183708190918, -0...   \n",
      "99999  -0.006491950247436762, 0.2220931202173233, -0....   \n",
      "\n",
      "                                              item_emb_2  \\\n",
      "0                                                   None   \n",
      "1                                                   None   \n",
      "2                                                   None   \n",
      "3      -0.006491950247436762, 0.2220931202173233, -0....   \n",
      "4                                                   None   \n",
      "...                                                  ...   \n",
      "99995                                               None   \n",
      "99996  -0.015663117170333862, -0.06924840807914734, -...   \n",
      "99997                                               None   \n",
      "99998                                               None   \n",
      "99999  0.010910830460488796, -0.08495029807090759, 0....   \n",
      "\n",
      "                                              item_emb_3 item_emb_4  \n",
      "0                                                   None       None  \n",
      "1                                                   None       None  \n",
      "2                                                   None       None  \n",
      "3                                                   None       None  \n",
      "4                                                   None       None  \n",
      "...                                                  ...        ...  \n",
      "99995                                               None       None  \n",
      "99996  -0.006491950247436762, 0.2220931202173233, -0....       None  \n",
      "99997                                               None       None  \n",
      "99998                                               None       None  \n",
      "99999                                               None       None  \n",
      "\n",
      "[98230 rows x 5 columns]\n",
      "                                              item_emb_0  \\\n",
      "2      0.010910830460488796, -0.08495029807090759, 0....   \n",
      "3      -0.006651971489191055, 0.21700970828533173, -0...   \n",
      "4      0.018911201506853104, 0.09183803200721741, -0....   \n",
      "7      -0.017373107373714447, -0.12356987595558167, -...   \n",
      "8      0.02553394064307213, -0.040949851274490356, 0....   \n",
      "...                                                  ...   \n",
      "99993  -0.015985209494829178, -0.07948037981987, -0.0...   \n",
      "99994  -4.326966591179371E-4, -0.4985255300998688, 0....   \n",
      "99996  -0.019605334848165512, -0.19448134303092957, -...   \n",
      "99998  0.026382293552160263, 0.005745112895965576, 0....   \n",
      "99999  0.03877287730574608, 0.22572016716003418, -0.0...   \n",
      "\n",
      "                                              item_emb_1  \\\n",
      "2      0.002153579145669937, 0.205512136220932, -0.03...   \n",
      "3      -0.01641768217086792, -0.09321874380111694, -0...   \n",
      "4      -0.02164444699883461, -0.25925806164741516, -0...   \n",
      "7      -0.002500270726159215, -0.04623711109161377, 3...   \n",
      "8      0.022089459002017975, -0.06327676773071289, 0....   \n",
      "...                                                  ...   \n",
      "99993  -0.002331259660422802, 0.3542662560939789, -0....   \n",
      "99994  0.047245193272829056, 0.15359020233154297, -0....   \n",
      "99996  -0.01403982937335968, -0.017681241035461426, -...   \n",
      "99998  -0.006040580570697784, 0.23643183708190918, -0...   \n",
      "99999  -0.006491950247436762, 0.2220931202173233, -0....   \n",
      "\n",
      "                                              item_emb_2  \\\n",
      "2                                                   None   \n",
      "3      -0.006491950247436762, 0.2220931202173233, -0....   \n",
      "4                                                   None   \n",
      "7      -0.006491950247436762, 0.2220931202173233, -0....   \n",
      "8      -0.006491950247436762, 0.2220931202173233, -0....   \n",
      "...                                                  ...   \n",
      "99993                                               None   \n",
      "99994  -0.015993623062968254, -0.07974764704704285, -...   \n",
      "99996  -0.015663117170333862, -0.06924840807914734, -...   \n",
      "99998                                               None   \n",
      "99999  0.010910830460488796, -0.08495029807090759, 0....   \n",
      "\n",
      "                                              item_emb_3  \\\n",
      "2                                                   None   \n",
      "3                                                   None   \n",
      "4                                                   None   \n",
      "7      -0.016271907836198807, -0.0885879397392273, -0...   \n",
      "8                                                   None   \n",
      "...                                                  ...   \n",
      "99993                                               None   \n",
      "99994  -0.01949157938361168, -0.1908675730228424, -0....   \n",
      "99996  -0.006491950247436762, 0.2220931202173233, -0....   \n",
      "99998                                               None   \n",
      "99999                                               None   \n",
      "\n",
      "                                              item_emb_4  \n",
      "2                                                   None  \n",
      "3                                                   None  \n",
      "4                                                   None  \n",
      "7      0.002257794141769409, -0.0787290632724762, 0.0...  \n",
      "8                                                   None  \n",
      "...                                                  ...  \n",
      "99993                                               None  \n",
      "99994                                               None  \n",
      "99996                                               None  \n",
      "99998                                               None  \n",
      "99999                                               None  \n",
      "\n",
      "[49603 rows x 5 columns]\n",
      "                                              item_emb_0  \\\n",
      "3      -0.006651971489191055, 0.21700970828533173, -0...   \n",
      "7      -0.017373107373714447, -0.12356987595558167, -...   \n",
      "8      0.02553394064307213, -0.040949851274490356, 0....   \n",
      "9      -0.019605334848165512, -0.19448134303092957, -...   \n",
      "10     -0.017373107373714447, -0.12356987595558167, -...   \n",
      "...                                                  ...   \n",
      "99990  -0.019136540591716766, -0.17958900332450867, -...   \n",
      "99991  -0.017373107373714447, -0.12356987595558167, -...   \n",
      "99994  -4.326966591179371E-4, -0.4985255300998688, 0....   \n",
      "99996  -0.019605334848165512, -0.19448134303092957, -...   \n",
      "99999  0.03877287730574608, 0.22572016716003418, -0.0...   \n",
      "\n",
      "                                              item_emb_1  \\\n",
      "3      -0.01641768217086792, -0.09321874380111694, -0...   \n",
      "7      -0.002500270726159215, -0.04623711109161377, 3...   \n",
      "8      0.022089459002017975, -0.06327676773071289, 0....   \n",
      "9      -0.015663117170333862, -0.06924840807914734, -...   \n",
      "10     0.010910830460488796, -0.08495029807090759, 0....   \n",
      "...                                                  ...   \n",
      "99990  -0.004734909161925316, 0.2697146534919739, -0....   \n",
      "99991  0.006975322030484676, -0.2460685670375824, 0.0...   \n",
      "99994  0.047245193272829056, 0.15359020233154297, -0....   \n",
      "99996  -0.01403982937335968, -0.017681241035461426, -...   \n",
      "99999  -0.006491950247436762, 0.2220931202173233, -0....   \n",
      "\n",
      "                                              item_emb_2  \\\n",
      "3      -0.006491950247436762, 0.2220931202173233, -0....   \n",
      "7      -0.006491950247436762, 0.2220931202173233, -0....   \n",
      "8      -0.006491950247436762, 0.2220931202173233, -0....   \n",
      "9      -0.0029329885728657246, 0.32043009996414185, -...   \n",
      "10     -0.015663117170333862, -0.06924840807914734, -...   \n",
      "...                                                  ...   \n",
      "99990  0.0036724302917718887, 0.15513455867767334, -0...   \n",
      "99991  0.006159826181828976, 0.0726320743560791, 0.00...   \n",
      "99994  -0.015993623062968254, -0.07974764704704285, -...   \n",
      "99996  -0.015663117170333862, -0.06924840807914734, -...   \n",
      "99999  0.010910830460488796, -0.08495029807090759, 0....   \n",
      "\n",
      "                                              item_emb_3  \\\n",
      "3                                                   None   \n",
      "7      -0.016271907836198807, -0.0885879397392273, -0...   \n",
      "8                                                   None   \n",
      "9      0.0034619583748281, 0.16211552917957306, -0.02...   \n",
      "10     -0.004942423664033413, 0.265569806098938, -0.0...   \n",
      "...                                                  ...   \n",
      "99990  -0.001367834396660328, 0.32773661613464355, -0...   \n",
      "99991  0.008961813524365425, -0.273791640996933, 0.08...   \n",
      "99994  -0.01949157938361168, -0.1908675730228424, -0....   \n",
      "99996  -0.006491950247436762, 0.2220931202173233, -0....   \n",
      "99999                                               None   \n",
      "\n",
      "                                              item_emb_4  \n",
      "3                                                   None  \n",
      "7      0.002257794141769409, -0.0787290632724762, 0.0...  \n",
      "8                                                   None  \n",
      "9      0.021785877645015717, -0.44565626978874207, 0....  \n",
      "10     0.038004133850336075, 0.24721276760101318, -0....  \n",
      "...                                                  ...  \n",
      "99990                                               None  \n",
      "99991  -0.03587355092167854, -0.711275577545166, 0.01...  \n",
      "99994                                               None  \n",
      "99996                                               None  \n",
      "99999                                               None  \n",
      "\n",
      "[27774 rows x 5 columns]\n",
      "                                              item_emb_0  \\\n",
      "7      -0.017373107373714447, -0.12356987595558167, -...   \n",
      "9      -0.019605334848165512, -0.19448134303092957, -...   \n",
      "10     -0.017373107373714447, -0.12356987595558167, -...   \n",
      "15     0.004494351334869862, 0.12787289917469025, -0....   \n",
      "17     -0.020345397293567657, -0.217990905046463, -0....   \n",
      "...                                                  ...   \n",
      "99989  -0.006491950247436762, 0.2220931202173233, -0....   \n",
      "99990  -0.019136540591716766, -0.17958900332450867, -...   \n",
      "99991  -0.017373107373714447, -0.12356987595558167, -...   \n",
      "99994  -4.326966591179371E-4, -0.4985255300998688, 0....   \n",
      "99996  -0.019605334848165512, -0.19448134303092957, -...   \n",
      "\n",
      "                                              item_emb_1  \\\n",
      "7      -0.002500270726159215, -0.04623711109161377, 3...   \n",
      "9      -0.015663117170333862, -0.06924840807914734, -...   \n",
      "10     0.010910830460488796, -0.08495029807090759, 0....   \n",
      "15     0.002153579145669937, 0.205512136220932, -0.03...   \n",
      "17     0.024776864796876907, 0.3156270384788513, -0.1...   \n",
      "...                                                  ...   \n",
      "99989  9.926462080329657E-4, 0.24401822686195374, -0....   \n",
      "99990  -0.004734909161925316, 0.2697146534919739, -0....   \n",
      "99991  0.006975322030484676, -0.2460685670375824, 0.0...   \n",
      "99994  0.047245193272829056, 0.15359020233154297, -0....   \n",
      "99996  -0.01403982937335968, -0.017681241035461426, -...   \n",
      "\n",
      "                                              item_emb_2  \\\n",
      "7      -0.006491950247436762, 0.2220931202173233, -0....   \n",
      "9      -0.0029329885728657246, 0.32043009996414185, -...   \n",
      "10     -0.015663117170333862, -0.06924840807914734, -...   \n",
      "15     -0.006491950247436762, 0.2220931202173233, -0....   \n",
      "17     0.0038047628477215767, -0.18185469508171082, 0...   \n",
      "...                                                  ...   \n",
      "99989  -5.975263193249702E-4, -0.2650321424007416, 0....   \n",
      "99990  0.0036724302917718887, 0.15513455867767334, -0...   \n",
      "99991  0.006159826181828976, 0.0726320743560791, 0.00...   \n",
      "99994  -0.015993623062968254, -0.07974764704704285, -...   \n",
      "99996  -0.015663117170333862, -0.06924840807914734, -...   \n",
      "\n",
      "                                              item_emb_3  \\\n",
      "7      -0.016271907836198807, -0.0885879397392273, -0...   \n",
      "9      0.0034619583748281, 0.16211552917957306, -0.02...   \n",
      "10     -0.004942423664033413, 0.265569806098938, -0.0...   \n",
      "15     0.019313253462314606, -0.36364373564720154, 0....   \n",
      "17     0.018911201506853104, 0.09183803200721741, -0....   \n",
      "...                                                  ...   \n",
      "99989  -0.002640314167365432, -0.4013234078884125, 0....   \n",
      "99990  -0.001367834396660328, 0.32773661613464355, -0...   \n",
      "99991  0.008961813524365425, -0.273791640996933, 0.08...   \n",
      "99994  -0.01949157938361168, -0.1908675730228424, -0....   \n",
      "99996  -0.006491950247436762, 0.2220931202173233, -0....   \n",
      "\n",
      "                                              item_emb_4  \n",
      "7      0.002257794141769409, -0.0787290632724762, 0.0...  \n",
      "9      0.021785877645015717, -0.44565626978874207, 0....  \n",
      "10     0.038004133850336075, 0.24721276760101318, -0....  \n",
      "15                                                  None  \n",
      "17     0.004233106970787048, 0.26993662118911743, -0....  \n",
      "...                                                  ...  \n",
      "99989                                               None  \n",
      "99990                                               None  \n",
      "99991  -0.03587355092167854, -0.711275577545166, 0.01...  \n",
      "99994                                               None  \n",
      "99996                                               None  \n",
      "\n",
      "[16489 rows x 5 columns]\n",
      "                                              item_emb_0  \\\n",
      "7      -0.017373107373714447, -0.12356987595558167, -...   \n",
      "9      -0.019605334848165512, -0.19448134303092957, -...   \n",
      "10     -0.017373107373714447, -0.12356987595558167, -...   \n",
      "17     -0.020345397293567657, -0.217990905046463, -0....   \n",
      "19     0.018911201506853104, 0.09183803200721741, -0....   \n",
      "...                                                  ...   \n",
      "99962  0.020428359508514404, 0.1143919825553894, -0.0...   \n",
      "99966  -0.014882626943290234, -0.044454485177993774, ...   \n",
      "99977  0.021728839725255966, -0.09306579828262329, 0....   \n",
      "99983  0.018425211310386658, -0.05833792686462402, 0....   \n",
      "99991  -0.017373107373714447, -0.12356987595558167, -...   \n",
      "\n",
      "                                              item_emb_1  \\\n",
      "7      -0.002500270726159215, -0.04623711109161377, 3...   \n",
      "9      -0.015663117170333862, -0.06924840807914734, -...   \n",
      "10     0.010910830460488796, -0.08495029807090759, 0....   \n",
      "17     0.024776864796876907, 0.3156270384788513, -0.1...   \n",
      "19     -0.013436644338071346, -0.3263227641582489, 0....   \n",
      "...                                                  ...   \n",
      "99962  -0.008346764370799065, -0.7134895324707031, 0....   \n",
      "99966  0.06954818218946457, 0.3348717987537384, -0.19...   \n",
      "99977  0.03132181614637375, 0.1947786957025528, -0.07...   \n",
      "99983  0.0026584365405142307, 0.18876692652702332, -0...   \n",
      "99991  0.006975322030484676, -0.2460685670375824, 0.0...   \n",
      "\n",
      "                                              item_emb_2  \\\n",
      "7      -0.006491950247436762, 0.2220931202173233, -0....   \n",
      "9      -0.0029329885728657246, 0.32043009996414185, -...   \n",
      "10     -0.015663117170333862, -0.06924840807914734, -...   \n",
      "17     0.0038047628477215767, -0.18185469508171082, 0...   \n",
      "19     0.00827314518392086, -0.21159633994102478, 0.0...   \n",
      "...                                                  ...   \n",
      "99962  0.010910830460488796, -0.08495029807090759, 0....   \n",
      "99966  -0.015663117170333862, -0.06924840807914734, -...   \n",
      "99977  0.01989569514989853, 0.020566076040267944, 0.0...   \n",
      "99983  -0.03623459115624428, -0.9101885557174683, 0.0...   \n",
      "99991  0.006159826181828976, 0.0726320743560791, 0.00...   \n",
      "\n",
      "                                              item_emb_3  \\\n",
      "7      -0.016271907836198807, -0.0885879397392273, -0...   \n",
      "9      0.0034619583748281, 0.16211552917957306, -0.02...   \n",
      "10     -0.004942423664033413, 0.265569806098938, -0.0...   \n",
      "17     0.018911201506853104, 0.09183803200721741, -0....   \n",
      "19     0.007067284546792507, -0.26281020045280457, 0....   \n",
      "...                                                  ...   \n",
      "99962  -6.061226595193148E-4, -0.09574612975120544, 0...   \n",
      "99966  -0.007510864641517401, -0.3325904309749603, 0....   \n",
      "99977  -0.014307872392237186, -0.026196181774139404, ...   \n",
      "99983  -0.005124713759869337, -0.11345034837722778, 0...   \n",
      "99991  0.008961813524365425, -0.273791640996933, 0.08...   \n",
      "\n",
      "                                              item_emb_4  \n",
      "7      0.002257794141769409, -0.0787290632724762, 0.0...  \n",
      "9      0.021785877645015717, -0.44565626978874207, 0....  \n",
      "10     0.038004133850336075, 0.24721276760101318, -0....  \n",
      "17     0.004233106970787048, 0.26993662118911743, -0....  \n",
      "19     -0.002744468627497554, -0.40158334374427795, 0...  \n",
      "...                                                  ...  \n",
      "99962  0.00827314518392086, -0.21159633994102478, 0.0...  \n",
      "99966  0.013037607073783875, -0.17667356133460999, 0....  \n",
      "99977  0.027634475380182266, 0.17345212399959564, -0....  \n",
      "99983  0.00827314518392086, -0.21159633994102478, 0.0...  \n",
      "99991  -0.03587355092167854, -0.711275577545166, 0.01...  \n",
      "\n",
      "[10793 rows x 5 columns]\n"
     ]
    }
   ],
   "source": [
    "s_item_embed_df = train_dataset_builder_[vs_emb]\n",
    "index_name_orig = s_item_embed_df.columns.values.tolist()\n",
    "for name_orig in index_name_orig:\n",
    "#     len_str = len(s_item_embed_df[s_item_embed_df[name_orig] != None][name_orig][0].split(','))\n",
    "    print(s_item_embed_df[s_item_embed_df[name_orig].notna()])\n"
   ]
  },
  {
   "cell_type": "code",
   "execution_count": 46,
   "id": "e638beae",
   "metadata": {
    "execution": {
     "iopub.execute_input": "2022-09-28T07:54:48.207861Z",
     "iopub.status.busy": "2022-09-28T07:54:48.206990Z",
     "iopub.status.idle": "2022-09-28T07:54:48.219517Z",
     "shell.execute_reply": "2022-09-28T07:54:48.218649Z",
     "shell.execute_reply.started": "2022-09-28T07:54:48.207774Z"
    }
   },
   "outputs": [],
   "source": [
    "def source_emb_prepare(embed_need_prepare):\n",
    "        embed_need_prepare = pd.DataFrame(embed_need_prepare)\n",
    "        index_name_orig = embed_need_prepare.columns.values.tolist()\n",
    "        for name_orig in index_name_orig:\n",
    "            embed_temp = copy.deepcopy(embed_need_prepare)\n",
    "            embed_temp_ = embed_temp[embed_temp[name_orig].notna()].reset_index(drop=True)\n",
    "            len_str = len(embed_temp_[name_orig][0].split(','))\n",
    "            null_fit_str = ','.join(['-1.0' for _ in range(len_str)])\n",
    "            values = {name_orig:null_fit_str}\n",
    "            embed_need_prepare.fillna(value=values)\n",
    "            embed_need_prepare[name_orig].replace(to_replace={None:null_fit_str}, inplace=True)\n",
    "            for i in range(len_str):\n",
    "                embed_need_prepare[name_orig+str(i)] = embed_need_prepare[name_orig].apply(lambda x:x.split(',')[i])\n",
    "            print('name_orig', name_orig)\n",
    "            embed_need_prepare.drop(columns=name_orig, inplace=True)\n",
    "        return embed_need_prepare"
   ]
  },
  {
   "cell_type": "code",
   "execution_count": 47,
   "id": "cbf41811",
   "metadata": {
    "execution": {
     "iopub.execute_input": "2022-09-28T07:55:00.530073Z",
     "iopub.status.busy": "2022-09-28T07:55:00.529517Z",
     "iopub.status.idle": "2022-09-28T07:57:09.878775Z",
     "shell.execute_reply": "2022-09-28T07:57:09.877922Z",
     "shell.execute_reply.started": "2022-09-28T07:55:00.530039Z"
    }
   },
   "outputs": [
    {
     "name": "stdout",
     "output_type": "stream",
     "text": [
      "name_orig item_emb_0\n",
      "name_orig item_emb_1\n",
      "name_orig item_emb_2\n",
      "name_orig item_emb_3\n",
      "name_orig item_emb_4\n"
     ]
    }
   ],
   "source": [
    "s_item_embed_df = train_dataset_builder_[vs_emb]\n",
    "s_item_embed_df = source_emb_prepare(s_item_embed_df)"
   ]
  },
  {
   "cell_type": "code",
   "execution_count": 48,
   "id": "baa248b4",
   "metadata": {
    "execution": {
     "iopub.execute_input": "2022-09-28T08:00:24.733639Z",
     "iopub.status.busy": "2022-09-28T08:00:24.733040Z",
     "iopub.status.idle": "2022-09-28T08:00:24.738304Z",
     "shell.execute_reply": "2022-09-28T08:00:24.737400Z",
     "shell.execute_reply.started": "2022-09-28T08:00:24.733603Z"
    }
   },
   "outputs": [
    {
     "name": "stdout",
     "output_type": "stream",
     "text": [
      "(100000, 320)\n"
     ]
    }
   ],
   "source": [
    "print(s_item_embed_df.shape)"
   ]
  },
  {
   "cell_type": "code",
   "execution_count": 43,
   "id": "25e8f91f",
   "metadata": {
    "execution": {
     "iopub.execute_input": "2022-09-28T07:18:49.538332Z",
     "iopub.status.busy": "2022-09-28T07:18:49.537647Z",
     "iopub.status.idle": "2022-09-28T07:18:49.543730Z",
     "shell.execute_reply": "2022-09-28T07:18:49.542898Z",
     "shell.execute_reply.started": "2022-09-28T07:18:49.538284Z"
    }
   },
   "outputs": [
    {
     "name": "stdout",
     "output_type": "stream",
     "text": [
      "item_emb_0\n"
     ]
    }
   ],
   "source": [
    "s_item_embed_df = pd.DataFrame(s_item_embed_df)\n",
    "index_name_orig = s_item_embed_df.columns.values.tolist()\n",
    "print(index_name_orig[0])"
   ]
  },
  {
   "cell_type": "code",
   "execution_count": 53,
   "id": "637bfb10",
   "metadata": {
    "execution": {
     "iopub.execute_input": "2022-09-28T08:04:07.339419Z",
     "iopub.status.busy": "2022-09-28T08:04:07.338683Z",
     "iopub.status.idle": "2022-09-28T08:04:07.350274Z",
     "shell.execute_reply": "2022-09-28T08:04:07.348655Z",
     "shell.execute_reply.started": "2022-09-28T08:04:07.339353Z"
    }
   },
   "outputs": [],
   "source": [
    "def cat_embeding_prepare(feature_df):\n",
    "        \n",
    "        with open('/home/jovyan/conv_meta/conv_meta/data/20220916_label_encoder_dict.json', 'r',encoding='utf8') as fp:\n",
    "            le_dict = json.load(fp)\n",
    "        label_rows = le_dict\n",
    "        label_max_value_dict = {}\n",
    "        for (k, v) in label_rows.items():\n",
    "            max_value = 0\n",
    "            for (kk, vv) in v.items():\n",
    "                if k in feature_df.columns.tolist():\n",
    "                    feature_df[feature_df[k]==kk] = vv\n",
    "                if vv >= max_value:  \n",
    "                    max_value = vv\n",
    "            label_max_value_dict[k] = max_value + 1\n",
    "        for col in feature_df.columns.tolist():\n",
    "            size_ =  label_max_value_dict[col]\n",
    "            embedding_layer = nn.Embedding(size_, 10)\n",
    "            embed_col = embedding_layer(torch.tensor(feature_df[col], dtype=torch.long)).view(feature_df.shape[0], 10)\n",
    "            feature_df.drop(columns=[col])\n",
    "            feature_df = pd.concat([feature_df, pd.DataFrame(embed_col.detach().numpy())], axis=1)\n",
    "\n",
    "        return feature_df"
   ]
  },
  {
   "cell_type": "code",
   "execution_count": 54,
   "id": "16ab53d3",
   "metadata": {
    "execution": {
     "iopub.execute_input": "2022-09-28T08:04:11.453130Z",
     "iopub.status.busy": "2022-09-28T08:04:11.452592Z",
     "iopub.status.idle": "2022-09-28T08:04:11.457434Z",
     "shell.execute_reply": "2022-09-28T08:04:11.456544Z",
     "shell.execute_reply.started": "2022-09-28T08:04:11.453098Z"
    }
   },
   "outputs": [],
   "source": [
    "t_user_cate_cols = user_cate_cols\n",
    "t_feed_cate_cols = feed_cate_cols\n",
    "t_user_num_cols = user_num_cols\n",
    "t_feed_num_cols = feed_num_cols"
   ]
  },
  {
   "cell_type": "code",
   "execution_count": 55,
   "id": "32241fcf",
   "metadata": {
    "execution": {
     "iopub.execute_input": "2022-09-28T08:04:13.689539Z",
     "iopub.status.busy": "2022-09-28T08:04:13.689003Z",
     "iopub.status.idle": "2022-09-28T08:04:33.018375Z",
     "shell.execute_reply": "2022-09-28T08:04:33.017523Z",
     "shell.execute_reply.started": "2022-09-28T08:04:13.689506Z"
    }
   },
   "outputs": [
    {
     "name": "stderr",
     "output_type": "stream",
     "text": [
      "/usr/local/lib/python3.7/site-packages/pandas/core/ops/array_ops.py:253: FutureWarning: elementwise comparison failed; returning scalar instead, but in the future will perform elementwise comparison\n",
      "  res_values = method(rvalues)\n",
      "/usr/local/lib/python3.7/site-packages/ipykernel_launcher.py:11: SettingWithCopyWarning: \n",
      "A value is trying to be set on a copy of a slice from a DataFrame.\n",
      "Try using .loc[row_indexer,col_indexer] = value instead\n",
      "\n",
      "See the caveats in the documentation: https://pandas.pydata.org/pandas-docs/stable/user_guide/indexing.html#returning-a-view-versus-a-copy\n",
      "  # This is added back by InteractiveShellApp.init_path()\n",
      "/usr/local/lib/python3.7/site-packages/pandas/core/frame.py:2957: SettingWithCopyWarning: \n",
      "A value is trying to be set on a copy of a slice from a DataFrame\n",
      "\n",
      "See the caveats in the documentation: https://pandas.pydata.org/pandas-docs/stable/user_guide/indexing.html#returning-a-view-versus-a-copy\n",
      "  self.loc._setitem_with_indexer(indexer, value)\n",
      "/usr/local/lib/python3.7/site-packages/pandas/core/frame.py:2935: SettingWithCopyWarning: \n",
      "A value is trying to be set on a copy of a slice from a DataFrame\n",
      "\n",
      "See the caveats in the documentation: https://pandas.pydata.org/pandas-docs/stable/user_guide/indexing.html#returning-a-view-versus-a-copy\n",
      "  self._setitem_array(key, value)\n"
     ]
    }
   ],
   "source": [
    "t_usr_cat_df = train_dataset_builder_[t_user_cate_cols]\n",
    "t_usr_num_df = train_dataset_builder_[t_user_num_cols]\n",
    "t_item_cat_df = train_dataset_builder_[t_feed_cate_cols]\n",
    "t_item_num_df = train_dataset_builder_[t_feed_num_cols]\n",
    "\n",
    "t_usr_cat_df_prep = cat_embeding_prepare(t_usr_cat_df)\n",
    "t_item_cat_df_prep = cat_embeding_prepare(t_item_cat_df)\n",
    "t_usr_df = pd.concat([t_usr_cat_df_prep, t_usr_num_df], axis=1)\n",
    "t_item_df = pd.concat([t_item_cat_df_prep, t_item_num_df], axis=1)"
   ]
  },
  {
   "cell_type": "code",
   "execution_count": 56,
   "id": "5186f0dc",
   "metadata": {
    "execution": {
     "iopub.execute_input": "2022-09-28T08:05:14.606543Z",
     "iopub.status.busy": "2022-09-28T08:05:14.606005Z",
     "iopub.status.idle": "2022-09-28T08:05:14.611222Z",
     "shell.execute_reply": "2022-09-28T08:05:14.610300Z",
     "shell.execute_reply.started": "2022-09-28T08:05:14.606508Z"
    }
   },
   "outputs": [
    {
     "name": "stdout",
     "output_type": "stream",
     "text": [
      "(100000, 815)\n",
      "(100000, 212)\n"
     ]
    }
   ],
   "source": [
    "print(t_usr_df.shape)\n",
    "print(t_item_df.shape)"
   ]
  },
  {
   "cell_type": "code",
   "execution_count": null,
   "id": "5255b26c",
   "metadata": {},
   "outputs": [],
   "source": []
  }
 ],
 "metadata": {
  "kernelspec": {
   "display_name": "Python 3 (ipykernel)",
   "language": "python",
   "name": "python3"
  },
  "language_info": {
   "codemirror_mode": {
    "name": "ipython",
    "version": 3
   },
   "file_extension": ".py",
   "mimetype": "text/x-python",
   "name": "python",
   "nbconvert_exporter": "python",
   "pygments_lexer": "ipython3",
   "version": "3.7.8"
  }
 },
 "nbformat": 4,
 "nbformat_minor": 5
}
